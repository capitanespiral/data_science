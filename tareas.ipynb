{
 "cells": [
  {
   "cell_type": "markdown",
   "metadata": {},
   "source": [
    "# Tarea 1"
   ]
  },
  {
   "cell_type": "markdown",
   "metadata": {},
   "source": [
    "- Con df_t: \n",
    "    - Conseguir el mayor subset sin NaN ni valores negativos de H y LE (calor sensible y calor latente)\n",
    "    - Filtrar todo el dataframe para que cumpla la condicion anterior, primero conservando la estructura original, y luego desechandola\n",
    "    - Luego seleccionar el mayor tiempo continuo que cumple con este criterio\n",
    "    - También, seleccionar solo cuando es invierno y se cumplen ambas condiciones y lo mismo para verano. ¿Cómo se diferencian los resultados?\n",
    "    \n",
    "\n",
    "- Con df:\n",
    "    - Conseguir el subset de personas que no llegaron a la universidad pero que si tienen familia\n",
    "    - También filtrar conservando estructura original, y luego desechando los datos que no cumplan esto\n",
    "    - Para estos últimos datos, ordenarlos según nivel de ingreso y luego ordenarlos según edad\n",
    "    - Repetir lo mismo pero diferenciando de sexo. ¿Como se diferencian los resultados? "
   ]
  },
  {
   "cell_type": "markdown",
   "metadata": {},
   "source": []
  }
 ],
 "metadata": {
  "language_info": {
   "name": "python"
  }
 },
 "nbformat": 4,
 "nbformat_minor": 2
}
