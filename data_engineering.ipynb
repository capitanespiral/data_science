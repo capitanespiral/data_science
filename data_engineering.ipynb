{
 "cells": [
  {
   "cell_type": "markdown",
   "metadata": {},
   "source": [
    "# Cosas por agregar\n",
    "- visualización\n",
    "- filtrado\n",
    "- incluir en loc y iloc ejemplos temporales y booleanos (ej dfl.loc['20130102':'20130104'])"
   ]
  },
  {
   "cell_type": "markdown",
   "metadata": {},
   "source": [
    "# Links de interés\n",
    "- Datasets https://www.kaggle.com/datasets\n",
    "- Documentación de Pandas https://pandas.pydata.org/docs/index.html \n",
    "- Cookbook de pandas https://pandas.pydata.org/docs/user_guide/cookbook.html\n",
    "- Estructura y un par de cosas sobre data engineering https://apmonitor.com/pds/index.php/Main/DataPreparation"
   ]
  },
  {
   "cell_type": "markdown",
   "metadata": {},
   "source": [
    "# Import importantes y cargo pickles de dfs"
   ]
  },
  {
   "cell_type": "code",
   "execution_count": 2,
   "metadata": {},
   "outputs": [
    {
     "name": "stderr",
     "output_type": "stream",
     "text": [
      "/home/capitanespiral/Documents/GitHub/data_science/.venv/lib/python3.10/site-packages/tqdm/auto.py:21: TqdmWarning: IProgress not found. Please update jupyter and ipywidgets. See https://ipywidgets.readthedocs.io/en/stable/user_install.html\n",
      "  from .autonotebook import tqdm as notebook_tqdm\n"
     ]
    },
    {
     "data": {
      "text/plain": [
       "'/home/capitanespiral/.cache/kagglehub/datasets/isathyam31/adult-income-prediction-classification/versions/1'"
      ]
     },
     "execution_count": 2,
     "metadata": {},
     "output_type": "execute_result"
    }
   ],
   "source": [
    "import kagglehub\n",
    "import pandas as pd\n",
    "import matplotlib.pyplot as plt\n",
    "import seaborn as sns\n",
    "import numpy as np\n",
    "import datetime\n",
    "import pickle\n",
    "\n",
    "\n",
    "# Download latest version\n",
    "kagglehub.dataset_download(\"isathyam31/adult-income-prediction-classification\")\n"
   ]
  },
  {
   "cell_type": "code",
   "execution_count": 3,
   "metadata": {},
   "outputs": [],
   "source": [
    "#Cargo pickles\n",
    "with open(\"df.pkl\",\"rb\") as file:\n",
    "    df=pickle.load(file)\n",
    "    \n",
    "with open(\"df_t.pkl\",\"rb\") as file:\n",
    "    df_t=pickle.load(file)"
   ]
  },
  {
   "cell_type": "markdown",
   "metadata": {},
   "source": [
    "# Recolectar data"
   ]
  },
  {
   "cell_type": "markdown",
   "metadata": {},
   "source": [
    "## Datos en general"
   ]
  },
  {
   "cell_type": "markdown",
   "metadata": {},
   "source": [
    "La función más usada, lejos es `read_csv` de pandas, donde basta que demos el path del archivo y su nombre, y se leerá si no hay mayor problema. Por default, la primera fila se transforma en las columnas del dataframe, que podemos ver usando `dataframe.columns`"
   ]
  },
  {
   "cell_type": "code",
   "execution_count": null,
   "metadata": {},
   "outputs": [],
   "source": [
    "path=\"/home/capitanespiral/Documents/GitHub/data_science\" #Aquí introducir tu path\n",
    "filename=\"data.csv\"\n",
    "\n",
    "df=pd.read_csv(f\"{path}/{filename}\")\n",
    "#Display entrega mucho mejor resultado que print para los dataframes!\n",
    "display(df)\n",
    "print(df.columns)"
   ]
  },
  {
   "cell_type": "markdown",
   "metadata": {},
   "source": [
    "---\n",
    "Opciones más usadas de `read_csv`:\n",
    "- **sep o delimiter** &rarr; El separador de la data, usualmente se encuentra solo pero a veces es mejor darlo explícitamente. (en el caso que se confunda el identificador automático)\n",
    "- **header** &rarr; Número de fila que se toma como nombre de columnas y desde el cual comienza la data, por default, cero (inicio del .csv).\n",
    "- **skiprows** &rarr; Filas a saltar desde el inicio del archivo (indexeando desde cero, se puede entregar lista o tupla)\n",
    "- **skipfooter** &rarr; Filas a saltar desde el final del archivo.\n",
    "- **usecols** &rarr; Subset de columnas a usar (secuencia de números o nombres explícitos)."
   ]
  },
  {
   "cell_type": "code",
   "execution_count": null,
   "metadata": {},
   "outputs": [],
   "source": [
    "#Si la primera fila está mala, cambiamos el header\n",
    "df1=pd.read_csv(\"data_bad_first_row.csv\") #Salió pésimo\n",
    "df2=pd.read_csv(\"data_bad_first_row.csv\",header=1) #Mucho mejor\n",
    "\n",
    "display(df1)\n",
    "display(df2)"
   ]
  },
  {
   "cell_type": "code",
   "execution_count": null,
   "metadata": {},
   "outputs": [],
   "source": [
    "#Si la segunda está mala\n",
    "df3=pd.read_csv(\"data_bad_second_row.csv\") #Primer dato pésimo\n",
    "df4=pd.read_csv(\"data_bad_second_row.csv\",skiprows=[1],header=0) #Nos saltamos la segunda fila y conservamos el header\n",
    "\n",
    "display(df3)\n",
    "display(df4)"
   ]
  },
  {
   "cell_type": "code",
   "execution_count": null,
   "metadata": {},
   "outputs": [],
   "source": [
    "#Seleccionemos ciertas columnas no más\n",
    "df5=pd.read_csv(\"data_bad_first_row.csv\",header=1,usecols=[0,3]) #Puede ser con números, aquí la primera y la cuarta\n",
    "df6=pd.read_csv(\"data_bad_first_row.csv\",header=1,usecols=range(4)) #Puede ser con iteradores, acá me entrega de la primera A la cuarta\n",
    "df7=pd.read_csv(\"data_bad_first_row.csv\",header=1,usecols=[\"age\",\"education\",\"workclass\"]) #Puede ser con los nombres explícitos\n",
    "\n",
    "display(df5)\n",
    "display(df6)\n",
    "display(df7)"
   ]
  },
  {
   "cell_type": "code",
   "execution_count": null,
   "metadata": {},
   "outputs": [],
   "source": [
    "del df1,df2,df3,df4,df5,df6,df7"
   ]
  },
  {
   "cell_type": "markdown",
   "metadata": {},
   "source": [
    "## Series de Tiempo"
   ]
  },
  {
   "cell_type": "markdown",
   "metadata": {},
   "source": [
    "Para el caso de series de tiempo, hay que saber trabajar con `Timestamps`, `Datetime`, `Timedelta`, etc..."
   ]
  },
  {
   "cell_type": "markdown",
   "metadata": {},
   "source": [
    "### Funciones generales "
   ]
  },
  {
   "cell_type": "markdown",
   "metadata": {},
   "source": [
    "- **pd.to_datetime()** &rarr; Transforma lo que le entregues en un \"Datetime\", funciona aceptando varios formatos y si le entregas secuencias.\n",
    "- **pd.date_range()** &rarr; Para crear puntos en el tiempo equiespaceados, con un \"start\" un \"end\", posibilidad de \"periods\" o \"freq\"\n",
    "    - **freq** más comunes:\"y\" (años),\"m\" (meses),\"W\" (semana), \"B\" (business day), \"d\" (días), \"h\" (horas), \"min\" (minutos), \"s\" (segundos) Ojo que hay *infinitas* opciones! revisar en https://pandas.pydata.org/docs/user_guide/timeseries.html#dateoffset-objects\n",
    "- **df.resample().func()** &rarr; Entregando como variable una frecuencia, podemos \"resamplear\" según la función \"func\""
   ]
  },
  {
   "cell_type": "markdown",
   "metadata": {},
   "source": [
    "Ejemplos de estas funciones:"
   ]
  },
  {
   "cell_type": "code",
   "execution_count": null,
   "metadata": {},
   "outputs": [],
   "source": [
    "##datetime con varios formatos\n",
    "dt1=pd.to_datetime([\"13/1/2018\", np.datetime64(\"2018-01-13\"), datetime.datetime(2018, 1, 13)],dayfirst=True)\n",
    "print(\"dt1:\",dt1,\"\\n\")"
   ]
  },
  {
   "cell_type": "code",
   "execution_count": null,
   "metadata": {},
   "outputs": [],
   "source": [
    "##date_range\n",
    "#Creando una lista de tiempo cada tres horas\n",
    "t1=\"1-1-2000\"\n",
    "t2=\"2000-3-10\"\n",
    "dt2=pd.date_range(start=t1,end=t2,freq=\"3h\")\n",
    "print(\"dt2:\",dt2,\"\\n\")\n",
    "\n",
    "#Lo mismo pero con 15 minutos\n",
    "t1=\"1-1-2000\"\n",
    "t2=\"2000-3-10\"\n",
    "dt3=pd.date_range(start=t1,end=t2,freq=\"15min\")\n",
    "print(\"dt3:\",dt3,\"\\n\")\n",
    "\n",
    "#Si tengo periodos y frecuencia\n",
    "dt4=pd.date_range(start=\"2018-8-1\", periods=5, freq=\"2d\")\n",
    "print(\"dt4:\",dt4,\"\\n\")"
   ]
  },
  {
   "cell_type": "code",
   "execution_count": null,
   "metadata": {},
   "outputs": [],
   "source": [
    "#Como usar el resampleo\n",
    "idx = pd.date_range(\"2018-01-01\", periods=10, freq=\"h\") #ojo que 1h = h\n",
    "ts = pd.Series(range(len(idx)), index=idx)\n",
    "print(\"ts\",ts,\"\\n\",sep=\"\\n\")\n",
    "#Downsample (también muy usado el sum)\n",
    "ts_downsampled=ts.resample(\"2h\").mean() #LEJOS el más útil\n",
    "print(\"ts_downsampled\",ts_downsampled,\"\\n\",sep=\"\\n\")\n",
    "#upsample (también muy usado bfill)\n",
    "ts_upsampled=ts.resample(\"30min\").ffill() #Sería interesante, acá interpolar\n",
    "print(\"ts_upsampled\",ts_upsampled,\"\\n\",sep=\"\\n\")"
   ]
  },
  {
   "cell_type": "code",
   "execution_count": 16,
   "metadata": {},
   "outputs": [],
   "source": [
    "del dt1,dt2,dt3,dt4,idx,ts,ts_upsampled,ts_downsampled"
   ]
  },
  {
   "cell_type": "markdown",
   "metadata": {},
   "source": [
    "Ahora trabajemos con data de verdad:"
   ]
  },
  {
   "cell_type": "code",
   "execution_count": null,
   "metadata": {},
   "outputs": [],
   "source": [
    "df_t=pd.read_csv(\"biomet1.csv\",skiprows=[1],header=0) #Tenemos caso de segunda linea sin sentido\n",
    "df_t[\"time_t\"]=pd.to_datetime(df_t['date']+\" \"+df_t['time']) #Lo guardamos en una nueva columna\n",
    "display(df_t)\n",
    "print(\"\\nLa columna nueva:\",df_t[\"time_t\"],sep=\"\\n\")"
   ]
  },
  {
   "cell_type": "markdown",
   "metadata": {},
   "source": [
    "Nos servirá ahora\n",
    "- **datetime.min() y .max()** &rarr; Evidente\n",
    "- **datetimeindex.atributos** &rarr; nos permite acceder a muchas funciones de tiempo como \"hour\",\"day\",\"minute\",\"second\",\"dayofyear\", \"strftime\", entre otras (si es una serie, no un índice, agregar dt). La totalidad de atributos y métodos en https://pandas.pydata.org/docs/reference/api/pandas.DatetimeIndex.html. La totalidad de formatos para \"strftime\" en https://docs.python.org/3/library/datetime.html#strftime-and-strptime-behavior"
   ]
  },
  {
   "cell_type": "code",
   "execution_count": null,
   "metadata": {},
   "outputs": [],
   "source": [
    "#Podemos acceder a propiedades o métodos específicos de un objeto tipo \"datetime\" usando el \"dt\"\n",
    "print(\"Solo el año:\",df_t[\"time_t\"].dt.year,\"\\n\",sep=\"\\n\")\n",
    "print(\"Cambio el formato:\",df_t[\"time_t\"].dt.strftime(\"%Y  /   %m   /  %d\"),\"\\n\",sep=\"\\n\")"
   ]
  },
  {
   "cell_type": "code",
   "execution_count": null,
   "metadata": {},
   "outputs": [],
   "source": [
    "#Fijamos un nuevo índice\n",
    "df_t=df_t.set_index(\"time_t\") #Esto \"traslada\" la columna \"time_t\" (ya no existe como columna) - Y pasa a ser datetimeindex\n",
    "df_t=df_t.drop(columns = [\"date\",\"time\"]) #Boto las columnas que ya no necesito\n",
    "display(df_t)\n",
    "print(\"Y el nuevo índice:\")\n",
    "print(df_t.index)"
   ]
  },
  {
   "cell_type": "code",
   "execution_count": null,
   "metadata": {},
   "outputs": [],
   "source": [
    "#Al fijarlo como índice, ahora podemos accesar simplemente con \".atributo\"\n",
    "display(df_t)\n",
    "print(\"Solo el día:\",df_t.index.day,\"\\n\",sep=\"\\n\")\n",
    "print(\"Solo el día juliano:\",df_t.index.dayofyear,\"\\n\",sep=\"\\n\")"
   ]
  },
  {
   "cell_type": "code",
   "execution_count": null,
   "metadata": {},
   "outputs": [],
   "source": [
    "#Podemos notar que hay vaciós en la data, en específico 3!\n",
    "fig,ax=plt.subplots(figsize=(16,10))\n",
    "ax.scatter(df_t.index,df_t.index,s=5)\n",
    "plt.show()"
   ]
  },
  {
   "cell_type": "code",
   "execution_count": null,
   "metadata": {},
   "outputs": [],
   "source": [
    "#Ahora cubrimos todo el espacio\n",
    "ti=df_t.index.min()\n",
    "tf=df_t.index.max()\n",
    "time_total=pd.date_range(start=ti,end=tf,freq=\"30min\")\n",
    "df_t=df_t.reindex(time_total) #Esta función redefine el índice, conservando datos y agregando nans si el nuevo índice coincide con el anterior o si no existe (para cada fila!)\n",
    "display(df_t)"
   ]
  },
  {
   "cell_type": "code",
   "execution_count": null,
   "metadata": {},
   "outputs": [],
   "source": [
    "#Se rellenó\n",
    "fig,ax=plt.subplots(figsize=(16,10))\n",
    "ax.scatter(df_t.index,df_t.index,s=5)\n",
    "plt.show()"
   ]
  },
  {
   "cell_type": "markdown",
   "metadata": {},
   "source": [
    "## Almacenamos como pickle los dataframes"
   ]
  },
  {
   "cell_type": "code",
   "execution_count": 20,
   "metadata": {},
   "outputs": [],
   "source": [
    "#El primer dataframe\n",
    "with open('df.pkl',\"wb\") as file:\n",
    "    pickle.dump(df,file)\n",
    "\n",
    "#El dataframe de serie de tiempo\n",
    "with open('df_t.pkl',\"wb\") as file:\n",
    "    pickle.dump(df_t,file)"
   ]
  },
  {
   "cell_type": "markdown",
   "metadata": {},
   "source": [
    "# Var data y estadística básica"
   ]
  },
  {
   "cell_type": "markdown",
   "metadata": {},
   "source": [
    "## Indexación básica"
   ]
  },
  {
   "cell_type": "markdown",
   "metadata": {},
   "source": [
    "Primero entender que *pandas* tiene dos grandes tipos de objetos: `Series`y `DataFrame`. El primero es como un \"vector\" (unidimensional) y el segundo está compuesto por varias `Series`, siendo como una \"matriz\". Y cada uno siempre tiene asociado su `Index`, que puede ser numérico o de cualquier naturaleza (uno común, temporal).\n",
    "\n",
    "La forma básica de indexar cada tipo tiene distintos resultados:\n",
    "- **Series[label]** &rarr; Dará un valor escalar en tal posición acorde al `Index`.\n",
    "- **DataFrame[colname]** &rarr; Dará una *Serie* correspondiente a tal nombre de columna"
   ]
  },
  {
   "cell_type": "code",
   "execution_count": 3,
   "metadata": {},
   "outputs": [],
   "source": [
    "#Accedo a una columna, me entrega a una serie, y despues a un elemento en específico\n",
    "print(\"**Dataframe**\")\n",
    "print(\"Edad\",df[\"age\"],\"\\n\",sep=\"\\n\")\n",
    "print(\"Tercer valor:\",df[\"age\"][2],\"\\n\") #df[\"age\"] es una serie, entonces df[\"age\"][2] es el valor asociado al indice 2 de la serie\n",
    "\n",
    "#Si el índice no es numérico, esto igual se puede hacer, pero se recomienda indexar acorde al índice\n",
    "print(\"**Dataframe temporal**\")\n",
    "print(\"Calor sensible\",df_t[\"H\"],\"\\n\",sep=\"\\n\") #Notar que el índice es temporal\n",
    "print(\"Tercer valor indexando con 'int':\",df_t[\"H\"][2]) #Obtengo el tercer valor -> Notar advertencia de pandas!\n",
    "print(\"Tercer valor indexando con un 'label' del 'index':\",df_t[\"H\"][\"2014-01-01 01:30:00\"]) #Lo mismo pero con el tiempo, engorroso pero preciso"
   ]
  },
  {
   "cell_type": "markdown",
   "metadata": {},
   "source": [
    "Siempre podemos acceder a **varios valores** de una *serie* (con indexación típica de python) o **varias columnas** en un *dataframe* (agregando un nuevo []:). Notar que esto último entrega un nuevo `DataFrame`."
   ]
  },
  {
   "cell_type": "code",
   "execution_count": 4,
   "metadata": {},
   "outputs": [],
   "source": [
    "display(df[[\"age\",\"education\"]])\n",
    "display(df[[\"age\",\"education\"]][1:5]) \n",
    "print(\"Del segundo al quinto valor de una columna:\",df[\"age\"][1:5],sep=\"\\n\")"
   ]
  },
  {
   "cell_type": "markdown",
   "metadata": {},
   "source": [
    "También usando slices de enteros en una *serie* o *dataframe* (en este caso se accesarán filas, no columnas)"
   ]
  },
  {
   "cell_type": "code",
   "execution_count": null,
   "metadata": {},
   "outputs": [],
   "source": [
    "#Indexado clásico de python sobre una serie\n",
    "print(\"Del primer al quinto dato:\",df[\"age\"][:5],\"\\n\",sep=\"\\n\") \n",
    "print(\"Los datos pares:\",df[\"age\"][::2],\"\\n\",sep=\"\\n\")\n",
    "\n",
    "#Indexado clásico de python sobre un dataframe\n",
    "print(\"\\nDel primer al quinto dato:\")\n",
    "display(df_t[:5]) \n",
    "print(\"\\nLos datos dados vuelta:\")\n",
    "display(df_t[::-1])"
   ]
  },
  {
   "cell_type": "markdown",
   "metadata": {},
   "source": [
    "Para seleccionar algunas posiciones basta con entregar una lista, pero solo funciona con series!"
   ]
  },
  {
   "cell_type": "code",
   "execution_count": 10,
   "metadata": {},
   "outputs": [
    {
     "name": "stdout",
     "output_type": "stream",
     "text": [
      "Segundo, tercer y sexto dato de 'age':\n",
      "1    50\n",
      "2    38\n",
      "5    37\n",
      "Name: age, dtype: int64\n",
      "\n",
      "Segundo, tercer y sexto dato de 'H':\n"
     ]
    },
    {
     "name": "stderr",
     "output_type": "stream",
     "text": [
      "/tmp/ipykernel_8185/144011600.py:5: FutureWarning: Series.__getitem__ treating keys as positions is deprecated. In a future version, integer keys will always be treated as labels (consistent with DataFrame behavior). To access a value by position, use `ser.iloc[pos]`\n",
      "  df_t[\"H\"][[1,2,5]] #Notar el warning\n"
     ]
    },
    {
     "data": {
      "text/plain": [
       "2014-01-01 01:00:00    -4.62751\n",
       "2014-01-01 01:30:00   -25.06920\n",
       "2014-01-01 03:00:00   -13.89090\n",
       "Name: H, dtype: float64"
      ]
     },
     "execution_count": 10,
     "metadata": {},
     "output_type": "execute_result"
    }
   ],
   "source": [
    "print(\"Segundo, tercer y sexto dato de 'age':\")\n",
    "print(df[\"age\"][[1,2,5]])\n",
    "\n",
    "print(\"\\nSegundo, tercer y sexto dato de 'H':\")\n",
    "df_t[\"H\"][[1,2,5]] #Notar el warning"
   ]
  },
  {
   "cell_type": "markdown",
   "metadata": {},
   "source": [
    "## Indexar con .loc e .iloc"
   ]
  },
  {
   "cell_type": "markdown",
   "metadata": {},
   "source": [
    "Para indexar también se tienen los métodos `.loc` y `.iloc`(para *series* y *dataframes*)\n",
    "1. `.loc` &rarr; trabaja con labels del índice o con arreglos booleanos.\n",
    "2. `.iloc` &rarr; trabaja con posisiones con enteros (desde 0 a -1) o con arreglos booleanos."
   ]
  },
  {
   "cell_type": "code",
   "execution_count": null,
   "metadata": {},
   "outputs": [],
   "source": [
    "df_temp=df.drop([1]) #Boto la segunda fila\n",
    "display(df_temp)\n",
    "\n",
    "print(\"Con loc\",df_temp.loc[2],\"\\n\",sep=\"\\n\") #Aquí 2 es interpretado como \"label\", será la nueva segunda fila\n",
    "\n",
    "print(\"Con loc\",df_temp.iloc[2],\"\\n\",sep=\"\\n\") #Aquí como entero, será la tercera fila"
   ]
  },
  {
   "cell_type": "markdown",
   "metadata": {},
   "source": [
    "Para llamar a varios elementos no secuenciales, usamos también listas"
   ]
  },
  {
   "cell_type": "code",
   "execution_count": null,
   "metadata": {},
   "outputs": [],
   "source": [
    "#Usando listas de elementos\n",
    "print(\"Usando listas:\")\n",
    "\n",
    "display(df_temp.loc[[0,3,5]]) #El label 0, 3, 5\n",
    "\n",
    "display(df_temp.iloc[[0,3,5]]) #Las posiciones asociados (otro label)\n",
    "\n",
    "#También usando \"slices\"\n",
    "print(\"\\nUsando slices ahora:\")\n",
    "\n",
    "display(df_temp.loc[0:5])\n",
    "\n",
    "display(df_temp.iloc[0:5])\n",
    "\n",
    "print(\"En este caso funcionan igual por la naturaleza de este índice. NOTAR que se incluye el PRINCIPIO Y EL FINAL!\")"
   ]
  },
  {
   "cell_type": "markdown",
   "metadata": {},
   "source": [
    "Llamando distintas filas y columnas usando `.loc`"
   ]
  },
  {
   "cell_type": "code",
   "execution_count": null,
   "metadata": {},
   "outputs": [],
   "source": [
    "#Mezclando filas y columnas loc\n",
    "print(\"Slice y columna - loc\",df_temp.loc[2:9,\"age\"],\"\\n\",sep=\"\\n\")\n",
    "\n",
    "print(\"Slice y slice - loc\")\n",
    "display(df_temp.loc[2:9,\"age\":\"sex\"])\n",
    "\n",
    "print(\"\\nFilas y columnas - loc\")\n",
    "display(df_temp.loc[[3,5,7],[\"age\",\"country\",\"race\"]])"
   ]
  },
  {
   "cell_type": "markdown",
   "metadata": {},
   "source": [
    "Llamando distintas filas y columnas usando `.iloc`"
   ]
  },
  {
   "cell_type": "code",
   "execution_count": null,
   "metadata": {},
   "outputs": [],
   "source": [
    "#Mezclando filas y columnas iloc\n",
    "\n",
    "print(\"Slice y columna - iloc\",df_temp.iloc[2:9,0],\"\\n\",sep=\"\\n\")\n",
    "\n",
    "print(\"Slice y slice - iloc\")\n",
    "display(df_temp.iloc[2:9,0:7])\n",
    "\n",
    "print(\"\\nFilas y columnas - iloc\")\n",
    "display(df_temp.iloc[[3,5,7],[0,5,7]])"
   ]
  },
  {
   "cell_type": "markdown",
   "metadata": {},
   "source": [
    "Usando slices en `.loc` siempre tiene que ser algo compatible con el índice del df (o al menos *transformable* en este!)"
   ]
  },
  {
   "cell_type": "code",
   "execution_count": null,
   "metadata": {},
   "outputs": [],
   "source": [
    "#Con loc podemos usar slices compatibles con el tipo de índice\n",
    "display(df_t.loc[\"20150112\":\"20160101\"])\n",
    "display(df_t.loc[\"2015\":\"2017\"])\n",
    "display(df_t.loc[\"2015\"]) #Todo lo que tenga 2015!"
   ]
  },
  {
   "cell_type": "markdown",
   "metadata": {},
   "source": [
    "Mezclando posición y label indexing:"
   ]
  },
  {
   "cell_type": "code",
   "execution_count": 23,
   "metadata": {},
   "outputs": [
    {
     "data": {
      "text/html": [
       "<div>\n",
       "<style scoped>\n",
       "    .dataframe tbody tr th:only-of-type {\n",
       "        vertical-align: middle;\n",
       "    }\n",
       "\n",
       "    .dataframe tbody tr th {\n",
       "        vertical-align: top;\n",
       "    }\n",
       "\n",
       "    .dataframe thead th {\n",
       "        text-align: right;\n",
       "    }\n",
       "</style>\n",
       "<table border=\"1\" class=\"dataframe\">\n",
       "  <thead>\n",
       "    <tr style=\"text-align: right;\">\n",
       "      <th></th>\n",
       "      <th>age</th>\n",
       "      <th>education</th>\n",
       "    </tr>\n",
       "  </thead>\n",
       "  <tbody>\n",
       "    <tr>\n",
       "      <th>0</th>\n",
       "      <td>39</td>\n",
       "      <td>Bachelors</td>\n",
       "    </tr>\n",
       "    <tr>\n",
       "      <th>2</th>\n",
       "      <td>38</td>\n",
       "      <td>HS-grad</td>\n",
       "    </tr>\n",
       "    <tr>\n",
       "      <th>5</th>\n",
       "      <td>37</td>\n",
       "      <td>Masters</td>\n",
       "    </tr>\n",
       "  </tbody>\n",
       "</table>\n",
       "</div>"
      ],
      "text/plain": [
       "   age   education\n",
       "0   39   Bachelors\n",
       "2   38     HS-grad\n",
       "5   37     Masters"
      ]
     },
     "metadata": {},
     "output_type": "display_data"
    },
    {
     "data": {
      "text/html": [
       "<div>\n",
       "<style scoped>\n",
       "    .dataframe tbody tr th:only-of-type {\n",
       "        vertical-align: middle;\n",
       "    }\n",
       "\n",
       "    .dataframe tbody tr th {\n",
       "        vertical-align: top;\n",
       "    }\n",
       "\n",
       "    .dataframe thead th {\n",
       "        text-align: right;\n",
       "    }\n",
       "</style>\n",
       "<table border=\"1\" class=\"dataframe\">\n",
       "  <thead>\n",
       "    <tr style=\"text-align: right;\">\n",
       "      <th></th>\n",
       "      <th>H</th>\n",
       "      <th>LE</th>\n",
       "    </tr>\n",
       "  </thead>\n",
       "  <tbody>\n",
       "    <tr>\n",
       "      <th>2014-01-01 00:30:00</th>\n",
       "      <td>2.1082</td>\n",
       "      <td>0.987573</td>\n",
       "    </tr>\n",
       "    <tr>\n",
       "      <th>2014-01-01 01:30:00</th>\n",
       "      <td>-25.0692</td>\n",
       "      <td>-0.209549</td>\n",
       "    </tr>\n",
       "    <tr>\n",
       "      <th>2014-01-01 03:00:00</th>\n",
       "      <td>-13.8909</td>\n",
       "      <td>0.025752</td>\n",
       "    </tr>\n",
       "  </tbody>\n",
       "</table>\n",
       "</div>"
      ],
      "text/plain": [
       "                           H        LE\n",
       "2014-01-01 00:30:00   2.1082  0.987573\n",
       "2014-01-01 01:30:00 -25.0692 -0.209549\n",
       "2014-01-01 03:00:00 -13.8909  0.025752"
      ]
     },
     "metadata": {},
     "output_type": "display_data"
    },
    {
     "data": {
      "text/html": [
       "<div>\n",
       "<style scoped>\n",
       "    .dataframe tbody tr th:only-of-type {\n",
       "        vertical-align: middle;\n",
       "    }\n",
       "\n",
       "    .dataframe tbody tr th {\n",
       "        vertical-align: top;\n",
       "    }\n",
       "\n",
       "    .dataframe thead th {\n",
       "        text-align: right;\n",
       "    }\n",
       "</style>\n",
       "<table border=\"1\" class=\"dataframe\">\n",
       "  <thead>\n",
       "    <tr style=\"text-align: right;\">\n",
       "      <th></th>\n",
       "      <th>sex</th>\n",
       "    </tr>\n",
       "  </thead>\n",
       "  <tbody>\n",
       "    <tr>\n",
       "      <th>0</th>\n",
       "      <td>Male</td>\n",
       "    </tr>\n",
       "    <tr>\n",
       "      <th>2</th>\n",
       "      <td>Male</td>\n",
       "    </tr>\n",
       "    <tr>\n",
       "      <th>5</th>\n",
       "      <td>Female</td>\n",
       "    </tr>\n",
       "  </tbody>\n",
       "</table>\n",
       "</div>"
      ],
      "text/plain": [
       "       sex\n",
       "0     Male\n",
       "2     Male\n",
       "5   Female"
      ]
     },
     "metadata": {},
     "output_type": "display_data"
    },
    {
     "data": {
      "text/html": [
       "<div>\n",
       "<style scoped>\n",
       "    .dataframe tbody tr th:only-of-type {\n",
       "        vertical-align: middle;\n",
       "    }\n",
       "\n",
       "    .dataframe tbody tr th {\n",
       "        vertical-align: top;\n",
       "    }\n",
       "\n",
       "    .dataframe thead th {\n",
       "        text-align: right;\n",
       "    }\n",
       "</style>\n",
       "<table border=\"1\" class=\"dataframe\">\n",
       "  <thead>\n",
       "    <tr style=\"text-align: right;\">\n",
       "      <th></th>\n",
       "      <th>H</th>\n",
       "      <th>LE</th>\n",
       "    </tr>\n",
       "  </thead>\n",
       "  <tbody>\n",
       "    <tr>\n",
       "      <th>2014-01-01 00:30:00</th>\n",
       "      <td>2.1082</td>\n",
       "      <td>0.987573</td>\n",
       "    </tr>\n",
       "    <tr>\n",
       "      <th>2014-01-01 01:30:00</th>\n",
       "      <td>-25.0692</td>\n",
       "      <td>-0.209549</td>\n",
       "    </tr>\n",
       "    <tr>\n",
       "      <th>2014-01-01 03:00:00</th>\n",
       "      <td>-13.8909</td>\n",
       "      <td>0.025752</td>\n",
       "    </tr>\n",
       "  </tbody>\n",
       "</table>\n",
       "</div>"
      ],
      "text/plain": [
       "                           H        LE\n",
       "2014-01-01 00:30:00   2.1082  0.987573\n",
       "2014-01-01 01:30:00 -25.0692 -0.209549\n",
       "2014-01-01 03:00:00 -13.8909  0.025752"
      ]
     },
     "metadata": {},
     "output_type": "display_data"
    }
   ],
   "source": [
    "#Con loc, en el índice de las filas podemos indexar posicionalmente el índice:\n",
    "display(df.loc[df.index[[0,2,5]],[\"age\",\"education\"]])\n",
    "display(df_t.loc[df_t.index[[0,2,5]],[\"H\",\"LE\"]])\n",
    "\n",
    "#Con iloc, es un poco más enredado, pero podemos llamar el label de la columna:\n",
    "display(df.iloc[[0,2,5],df.columns.get_indexer([\"sex\"])])\n",
    "display(df_t.iloc[[0,2,5],df_t.columns.get_indexer([\"H\",\"LE\"])])"
   ]
  },
  {
   "cell_type": "markdown",
   "metadata": {},
   "source": [
    "Como vemos, indexado básico y `.loc` e `.iloc` gestionan *múltiples casos* de indexado. Si queremos solo conseguir *un* valor, se recomiendo usar `.at`y `.iat` (mucho más veloces para esto). Uno ve labels y el otro posiciones respectivamente."
   ]
  },
  {
   "cell_type": "code",
   "execution_count": 31,
   "metadata": {},
   "outputs": [
    {
     "name": "stdout",
     "output_type": "stream",
     "text": [
      "38\n",
      "38\n",
      "2.1082\n",
      "2.1082\n"
     ]
    }
   ],
   "source": [
    "print(df.at[2,\"age\"])\n",
    "print(df.iat[2,0])\n",
    "\n",
    "print(df_t.at[df_t.index[0],\"H\"])\n",
    "print(df_t.iat[0,25])"
   ]
  },
  {
   "cell_type": "markdown",
   "metadata": {},
   "source": [
    "## Indexar con booleanos"
   ]
  },
  {
   "cell_type": "markdown",
   "metadata": {},
   "source": [
    "Dentro de las cosas más poderosas y usadas en *Pandas*. Los operadores entre comparaciones son `|` (or), `&` (and), `~` (not) y se deben agrupar con parentesis."
   ]
  },
  {
   "cell_type": "markdown",
   "metadata": {},
   "source": [
    "Si estamos trabajando con `series` se trabaja igual que un arreglo numpy:"
   ]
  },
  {
   "cell_type": "code",
   "execution_count": 37,
   "metadata": {},
   "outputs": [
    {
     "name": "stdout",
     "output_type": "stream",
     "text": [
      "Edades menores a 30:\n",
      "4        28\n",
      "12       23\n",
      "16       25\n",
      "26       19\n",
      "30       23\n",
      "         ..\n",
      "32529    29\n",
      "32535    22\n",
      "32555    22\n",
      "32556    27\n",
      "32559    22\n",
      "Name: age, Length: 9711, dtype: int64\n",
      "\n",
      "Edades menores a 30 o mayor/igual a 40:\n",
      "1        50\n",
      "3        53\n",
      "4        28\n",
      "6        49\n",
      "7        52\n",
      "         ..\n",
      "32556    27\n",
      "32557    40\n",
      "32558    58\n",
      "32559    22\n",
      "32560    52\n",
      "Name: age, Length: 23948, dtype: int64\n",
      "\n",
      "Edades entre 30 y 35:\n",
      "8        31\n",
      "11       30\n",
      "13       32\n",
      "15       34\n",
      "17       32\n",
      "         ..\n",
      "32536    34\n",
      "32537    30\n",
      "32544    31\n",
      "32551    32\n",
      "32553    32\n",
      "Name: age, Length: 5214, dtype: int64\n"
     ]
    }
   ],
   "source": [
    "#Con series\n",
    "s=df[\"age\"]\n",
    "print(\"Edades menores a 30:\")\n",
    "print(s[s<30]) #Claro ques era lo mismo usar df[\"age\"][df[\"age\"]<30]\n",
    "\n",
    "print(\"\\nEdades menores a 30 o mayor/igual a 40:\")\n",
    "print(s[(s<30) | (s>= 40)])\n",
    "\n",
    "print(\"\\nEdades entre 30 y 35:\")\n",
    "print(s[(s>=30) & (s<=35)])"
   ]
  },
  {
   "cell_type": "markdown",
   "metadata": {},
   "source": [
    "Si queremos trabajar con `Dataframes`"
   ]
  },
  {
   "cell_type": "markdown",
   "metadata": {},
   "source": [
    "## Otras funciones de visualización"
   ]
  },
  {
   "cell_type": "markdown",
   "metadata": {},
   "source": [
    "Hay una serie de funciones que nos permiten visualizar la data. Dentro de las más básicas:\n",
    "- **df.head(n)** &rarr; nos permite ver las primeras \"n\" filas (sin n, por default 5), funciona para `Series` y `DataFrame`.\n",
    "- **df.tail(n)** &rarr; nos permite ver las últimas \"n\" filas (lo mismo), funciona para `Series` y `DataFrame`."
   ]
  },
  {
   "cell_type": "code",
   "execution_count": 11,
   "metadata": {},
   "outputs": [],
   "source": [
    "#Para dataframes\n",
    "display(df.head())\n",
    "display(df.head(10))\n",
    "\n",
    "#Para una serie\n",
    "print(df[\"age\"].head())"
   ]
  },
  {
   "cell_type": "code",
   "execution_count": 12,
   "metadata": {},
   "outputs": [],
   "source": [
    "display(df.tail())\n",
    "\n",
    "display(df[\"workclass\"].tail())"
   ]
  },
  {
   "cell_type": "markdown",
   "metadata": {},
   "source": [
    "## Estadística"
   ]
  },
  {
   "cell_type": "markdown",
   "metadata": {},
   "source": [
    "Para tener una descripción estadística básica de nuestra data podemos usar `df.describe()`"
   ]
  },
  {
   "cell_type": "code",
   "execution_count": null,
   "metadata": {},
   "outputs": [
    {
     "data": {
      "text/html": [
       "<div>\n",
       "<style scoped>\n",
       "    .dataframe tbody tr th:only-of-type {\n",
       "        vertical-align: middle;\n",
       "    }\n",
       "\n",
       "    .dataframe tbody tr th {\n",
       "        vertical-align: top;\n",
       "    }\n",
       "\n",
       "    .dataframe thead th {\n",
       "        text-align: right;\n",
       "    }\n",
       "</style>\n",
       "<table border=\"1\" class=\"dataframe\">\n",
       "  <thead>\n",
       "    <tr style=\"text-align: right;\">\n",
       "      <th></th>\n",
       "      <th>age</th>\n",
       "      <th>fnlwgt</th>\n",
       "      <th>education-num</th>\n",
       "      <th>capital-gain</th>\n",
       "      <th>capital-loss</th>\n",
       "      <th>hours-per-week</th>\n",
       "      <th>salary</th>\n",
       "    </tr>\n",
       "  </thead>\n",
       "  <tbody>\n",
       "    <tr>\n",
       "      <th>count</th>\n",
       "      <td>32561.000000</td>\n",
       "      <td>3.256100e+04</td>\n",
       "      <td>32561.000000</td>\n",
       "      <td>32561.000000</td>\n",
       "      <td>32561.000000</td>\n",
       "      <td>32561.000000</td>\n",
       "      <td>32561.000000</td>\n",
       "    </tr>\n",
       "    <tr>\n",
       "      <th>mean</th>\n",
       "      <td>38.581647</td>\n",
       "      <td>1.897784e+05</td>\n",
       "      <td>10.080679</td>\n",
       "      <td>1077.648844</td>\n",
       "      <td>87.303830</td>\n",
       "      <td>40.437456</td>\n",
       "      <td>0.240810</td>\n",
       "    </tr>\n",
       "    <tr>\n",
       "      <th>std</th>\n",
       "      <td>13.640433</td>\n",
       "      <td>1.055500e+05</td>\n",
       "      <td>2.572720</td>\n",
       "      <td>7385.292085</td>\n",
       "      <td>402.960219</td>\n",
       "      <td>12.347429</td>\n",
       "      <td>0.427581</td>\n",
       "    </tr>\n",
       "    <tr>\n",
       "      <th>min</th>\n",
       "      <td>17.000000</td>\n",
       "      <td>1.228500e+04</td>\n",
       "      <td>1.000000</td>\n",
       "      <td>0.000000</td>\n",
       "      <td>0.000000</td>\n",
       "      <td>1.000000</td>\n",
       "      <td>0.000000</td>\n",
       "    </tr>\n",
       "    <tr>\n",
       "      <th>25%</th>\n",
       "      <td>28.000000</td>\n",
       "      <td>1.178270e+05</td>\n",
       "      <td>9.000000</td>\n",
       "      <td>0.000000</td>\n",
       "      <td>0.000000</td>\n",
       "      <td>40.000000</td>\n",
       "      <td>0.000000</td>\n",
       "    </tr>\n",
       "    <tr>\n",
       "      <th>50%</th>\n",
       "      <td>37.000000</td>\n",
       "      <td>1.783560e+05</td>\n",
       "      <td>10.000000</td>\n",
       "      <td>0.000000</td>\n",
       "      <td>0.000000</td>\n",
       "      <td>40.000000</td>\n",
       "      <td>0.000000</td>\n",
       "    </tr>\n",
       "    <tr>\n",
       "      <th>75%</th>\n",
       "      <td>48.000000</td>\n",
       "      <td>2.370510e+05</td>\n",
       "      <td>12.000000</td>\n",
       "      <td>0.000000</td>\n",
       "      <td>0.000000</td>\n",
       "      <td>45.000000</td>\n",
       "      <td>0.000000</td>\n",
       "    </tr>\n",
       "    <tr>\n",
       "      <th>max</th>\n",
       "      <td>90.000000</td>\n",
       "      <td>1.484705e+06</td>\n",
       "      <td>16.000000</td>\n",
       "      <td>99999.000000</td>\n",
       "      <td>4356.000000</td>\n",
       "      <td>99.000000</td>\n",
       "      <td>1.000000</td>\n",
       "    </tr>\n",
       "  </tbody>\n",
       "</table>\n",
       "</div>"
      ],
      "text/plain": [
       "                age        fnlwgt  education-num  capital-gain  capital-loss  \\\n",
       "count  32561.000000  3.256100e+04   32561.000000  32561.000000  32561.000000   \n",
       "mean      38.581647  1.897784e+05      10.080679   1077.648844     87.303830   \n",
       "std       13.640433  1.055500e+05       2.572720   7385.292085    402.960219   \n",
       "min       17.000000  1.228500e+04       1.000000      0.000000      0.000000   \n",
       "25%       28.000000  1.178270e+05       9.000000      0.000000      0.000000   \n",
       "50%       37.000000  1.783560e+05      10.000000      0.000000      0.000000   \n",
       "75%       48.000000  2.370510e+05      12.000000      0.000000      0.000000   \n",
       "max       90.000000  1.484705e+06      16.000000  99999.000000   4356.000000   \n",
       "\n",
       "       hours-per-week        salary  \n",
       "count    32561.000000  32561.000000  \n",
       "mean        40.437456      0.240810  \n",
       "std         12.347429      0.427581  \n",
       "min          1.000000      0.000000  \n",
       "25%         40.000000      0.000000  \n",
       "50%         40.000000      0.000000  \n",
       "75%         45.000000      0.000000  \n",
       "max         99.000000      1.000000  "
      ]
     },
     "metadata": {},
     "output_type": "display_data"
    },
    {
     "data": {
      "text/html": [
       "<div>\n",
       "<style scoped>\n",
       "    .dataframe tbody tr th:only-of-type {\n",
       "        vertical-align: middle;\n",
       "    }\n",
       "\n",
       "    .dataframe tbody tr th {\n",
       "        vertical-align: top;\n",
       "    }\n",
       "\n",
       "    .dataframe thead th {\n",
       "        text-align: right;\n",
       "    }\n",
       "</style>\n",
       "<table border=\"1\" class=\"dataframe\">\n",
       "  <thead>\n",
       "    <tr style=\"text-align: right;\">\n",
       "      <th></th>\n",
       "      <th>DOY</th>\n",
       "      <th>Ta</th>\n",
       "      <th>Pa</th>\n",
       "      <th>RH</th>\n",
       "      <th>Td</th>\n",
       "      <th>Tc</th>\n",
       "      <th>Rn</th>\n",
       "      <th>LWin</th>\n",
       "      <th>LWout</th>\n",
       "      <th>SWin</th>\n",
       "      <th>...</th>\n",
       "      <th>Ts_2_1_1</th>\n",
       "      <th>Ts_3_1_1</th>\n",
       "      <th>SWC_1_1_1</th>\n",
       "      <th>SWC_2_1_1</th>\n",
       "      <th>SWC_3_1_1</th>\n",
       "      <th>SHF_1_1_1</th>\n",
       "      <th>SHF_2_1_1</th>\n",
       "      <th>SHF_3_1_1</th>\n",
       "      <th>LE</th>\n",
       "      <th>H</th>\n",
       "    </tr>\n",
       "  </thead>\n",
       "  <tbody>\n",
       "    <tr>\n",
       "      <th>count</th>\n",
       "      <td>65916.000000</td>\n",
       "      <td>52513.000000</td>\n",
       "      <td>53922.000000</td>\n",
       "      <td>47646.000000</td>\n",
       "      <td>49335.000000</td>\n",
       "      <td>52513.000000</td>\n",
       "      <td>47565.000000</td>\n",
       "      <td>47568.000000</td>\n",
       "      <td>47566.000000</td>\n",
       "      <td>47571.000000</td>\n",
       "      <td>...</td>\n",
       "      <td>5.830200e+04</td>\n",
       "      <td>5.724800e+04</td>\n",
       "      <td>57367.000000</td>\n",
       "      <td>57455.000000</td>\n",
       "      <td>57368.000000</td>\n",
       "      <td>59114.000000</td>\n",
       "      <td>59110.000000</td>\n",
       "      <td>59111.000000</td>\n",
       "      <td>5.251300e+04</td>\n",
       "      <td>52513.000000</td>\n",
       "    </tr>\n",
       "    <tr>\n",
       "      <th>mean</th>\n",
       "      <td>176.631558</td>\n",
       "      <td>283.168731</td>\n",
       "      <td>102175.206806</td>\n",
       "      <td>63.652512</td>\n",
       "      <td>3.808639</td>\n",
       "      <td>283.168731</td>\n",
       "      <td>77.835297</td>\n",
       "      <td>675.487559</td>\n",
       "      <td>734.376218</td>\n",
       "      <td>155.724590</td>\n",
       "      <td>...</td>\n",
       "      <td>-3.381937e+03</td>\n",
       "      <td>-5.324770e+12</td>\n",
       "      <td>0.562180</td>\n",
       "      <td>0.584705</td>\n",
       "      <td>0.311443</td>\n",
       "      <td>-0.125020</td>\n",
       "      <td>-0.350309</td>\n",
       "      <td>-0.474499</td>\n",
       "      <td>-1.223460e+02</td>\n",
       "      <td>82.933967</td>\n",
       "    </tr>\n",
       "    <tr>\n",
       "      <th>std</th>\n",
       "      <td>101.776559</td>\n",
       "      <td>21.535027</td>\n",
       "      <td>2498.673850</td>\n",
       "      <td>40.283867</td>\n",
       "      <td>21.686410</td>\n",
       "      <td>21.535027</td>\n",
       "      <td>203.979697</td>\n",
       "      <td>60.356268</td>\n",
       "      <td>47.074460</td>\n",
       "      <td>252.848755</td>\n",
       "      <td>...</td>\n",
       "      <td>1.566262e+05</td>\n",
       "      <td>9.372216e+13</td>\n",
       "      <td>0.125917</td>\n",
       "      <td>0.108636</td>\n",
       "      <td>0.143639</td>\n",
       "      <td>4.930163</td>\n",
       "      <td>3.141290</td>\n",
       "      <td>2.774658</td>\n",
       "      <td>2.257463e+04</td>\n",
       "      <td>2422.917355</td>\n",
       "    </tr>\n",
       "    <tr>\n",
       "      <th>min</th>\n",
       "      <td>1.000000</td>\n",
       "      <td>12.442400</td>\n",
       "      <td>88256.200000</td>\n",
       "      <td>-91.105500</td>\n",
       "      <td>-48.752500</td>\n",
       "      <td>12.442400</td>\n",
       "      <td>-153.013000</td>\n",
       "      <td>0.000000</td>\n",
       "      <td>-1925.630000</td>\n",
       "      <td>-7.686280</td>\n",
       "      <td>...</td>\n",
       "      <td>-1.757490e+07</td>\n",
       "      <td>-1.875950e+15</td>\n",
       "      <td>0.000000</td>\n",
       "      <td>0.000000</td>\n",
       "      <td>0.000000</td>\n",
       "      <td>-12.143900</td>\n",
       "      <td>-19.364500</td>\n",
       "      <td>-12.760700</td>\n",
       "      <td>-3.712310e+06</td>\n",
       "      <td>-267458.000000</td>\n",
       "    </tr>\n",
       "    <tr>\n",
       "      <th>25%</th>\n",
       "      <td>90.208200</td>\n",
       "      <td>281.976000</td>\n",
       "      <td>100687.000000</td>\n",
       "      <td>56.051725</td>\n",
       "      <td>-4.471790</td>\n",
       "      <td>281.976000</td>\n",
       "      <td>-46.579900</td>\n",
       "      <td>634.660750</td>\n",
       "      <td>704.915000</td>\n",
       "      <td>-1.723295</td>\n",
       "      <td>...</td>\n",
       "      <td>2.816330e+02</td>\n",
       "      <td>2.812100e+02</td>\n",
       "      <td>0.494216</td>\n",
       "      <td>0.544990</td>\n",
       "      <td>0.226947</td>\n",
       "      <td>-2.815517</td>\n",
       "      <td>-2.121848</td>\n",
       "      <td>-1.950870</td>\n",
       "      <td>-7.156740e-01</td>\n",
       "      <td>-21.851900</td>\n",
       "    </tr>\n",
       "    <tr>\n",
       "      <th>50%</th>\n",
       "      <td>176.031200</td>\n",
       "      <td>284.341000</td>\n",
       "      <td>101141.000000</td>\n",
       "      <td>80.993250</td>\n",
       "      <td>4.985470</td>\n",
       "      <td>284.341000</td>\n",
       "      <td>-2.475980</td>\n",
       "      <td>685.651000</td>\n",
       "      <td>731.302000</td>\n",
       "      <td>1.315270</td>\n",
       "      <td>...</td>\n",
       "      <td>2.833330e+02</td>\n",
       "      <td>2.829960e+02</td>\n",
       "      <td>0.568100</td>\n",
       "      <td>0.592789</td>\n",
       "      <td>0.300752</td>\n",
       "      <td>-0.110623</td>\n",
       "      <td>-0.199541</td>\n",
       "      <td>-0.295721</td>\n",
       "      <td>3.661330e+00</td>\n",
       "      <td>-2.183100</td>\n",
       "    </tr>\n",
       "    <tr>\n",
       "      <th>75%</th>\n",
       "      <td>261.854000</td>\n",
       "      <td>286.852000</td>\n",
       "      <td>101996.000000</td>\n",
       "      <td>92.223300</td>\n",
       "      <td>10.346250</td>\n",
       "      <td>286.852000</td>\n",
       "      <td>147.652000</td>\n",
       "      <td>720.179250</td>\n",
       "      <td>759.929750</td>\n",
       "      <td>231.949500</td>\n",
       "      <td>...</td>\n",
       "      <td>2.856600e+02</td>\n",
       "      <td>2.851710e+02</td>\n",
       "      <td>0.634363</td>\n",
       "      <td>0.639718</td>\n",
       "      <td>0.365071</td>\n",
       "      <td>2.192137</td>\n",
       "      <td>1.377710</td>\n",
       "      <td>1.040055</td>\n",
       "      <td>4.996030e+01</td>\n",
       "      <td>21.475800</td>\n",
       "    </tr>\n",
       "    <tr>\n",
       "      <th>max</th>\n",
       "      <td>366.979000</td>\n",
       "      <td>509.294000</td>\n",
       "      <td>109155.000000</td>\n",
       "      <td>105.718000</td>\n",
       "      <td>273.702000</td>\n",
       "      <td>509.294000</td>\n",
       "      <td>927.678000</td>\n",
       "      <td>1255.550000</td>\n",
       "      <td>1245.410000</td>\n",
       "      <td>1197.010000</td>\n",
       "      <td>...</td>\n",
       "      <td>3.449810e+02</td>\n",
       "      <td>3.278990e+02</td>\n",
       "      <td>1.048280</td>\n",
       "      <td>1.057090</td>\n",
       "      <td>0.799173</td>\n",
       "      <td>471.304000</td>\n",
       "      <td>401.488000</td>\n",
       "      <td>408.791000</td>\n",
       "      <td>4.249940e+05</td>\n",
       "      <td>120098.000000</td>\n",
       "    </tr>\n",
       "  </tbody>\n",
       "</table>\n",
       "<p>8 rows × 26 columns</p>\n",
       "</div>"
      ],
      "text/plain": [
       "                DOY            Ta             Pa            RH            Td  \\\n",
       "count  65916.000000  52513.000000   53922.000000  47646.000000  49335.000000   \n",
       "mean     176.631558    283.168731  102175.206806     63.652512      3.808639   \n",
       "std      101.776559     21.535027    2498.673850     40.283867     21.686410   \n",
       "min        1.000000     12.442400   88256.200000    -91.105500    -48.752500   \n",
       "25%       90.208200    281.976000  100687.000000     56.051725     -4.471790   \n",
       "50%      176.031200    284.341000  101141.000000     80.993250      4.985470   \n",
       "75%      261.854000    286.852000  101996.000000     92.223300     10.346250   \n",
       "max      366.979000    509.294000  109155.000000    105.718000    273.702000   \n",
       "\n",
       "                 Tc            Rn          LWin         LWout          SWin  \\\n",
       "count  52513.000000  47565.000000  47568.000000  47566.000000  47571.000000   \n",
       "mean     283.168731     77.835297    675.487559    734.376218    155.724590   \n",
       "std       21.535027    203.979697     60.356268     47.074460    252.848755   \n",
       "min       12.442400   -153.013000      0.000000  -1925.630000     -7.686280   \n",
       "25%      281.976000    -46.579900    634.660750    704.915000     -1.723295   \n",
       "50%      284.341000     -2.475980    685.651000    731.302000      1.315270   \n",
       "75%      286.852000    147.652000    720.179250    759.929750    231.949500   \n",
       "max      509.294000    927.678000   1255.550000   1245.410000   1197.010000   \n",
       "\n",
       "       ...      Ts_2_1_1      Ts_3_1_1     SWC_1_1_1     SWC_2_1_1  \\\n",
       "count  ...  5.830200e+04  5.724800e+04  57367.000000  57455.000000   \n",
       "mean   ... -3.381937e+03 -5.324770e+12      0.562180      0.584705   \n",
       "std    ...  1.566262e+05  9.372216e+13      0.125917      0.108636   \n",
       "min    ... -1.757490e+07 -1.875950e+15      0.000000      0.000000   \n",
       "25%    ...  2.816330e+02  2.812100e+02      0.494216      0.544990   \n",
       "50%    ...  2.833330e+02  2.829960e+02      0.568100      0.592789   \n",
       "75%    ...  2.856600e+02  2.851710e+02      0.634363      0.639718   \n",
       "max    ...  3.449810e+02  3.278990e+02      1.048280      1.057090   \n",
       "\n",
       "          SWC_3_1_1     SHF_1_1_1     SHF_2_1_1     SHF_3_1_1            LE  \\\n",
       "count  57368.000000  59114.000000  59110.000000  59111.000000  5.251300e+04   \n",
       "mean       0.311443     -0.125020     -0.350309     -0.474499 -1.223460e+02   \n",
       "std        0.143639      4.930163      3.141290      2.774658  2.257463e+04   \n",
       "min        0.000000    -12.143900    -19.364500    -12.760700 -3.712310e+06   \n",
       "25%        0.226947     -2.815517     -2.121848     -1.950870 -7.156740e-01   \n",
       "50%        0.300752     -0.110623     -0.199541     -0.295721  3.661330e+00   \n",
       "75%        0.365071      2.192137      1.377710      1.040055  4.996030e+01   \n",
       "max        0.799173    471.304000    401.488000    408.791000  4.249940e+05   \n",
       "\n",
       "                   H  \n",
       "count   52513.000000  \n",
       "mean       82.933967  \n",
       "std      2422.917355  \n",
       "min   -267458.000000  \n",
       "25%       -21.851900  \n",
       "50%        -2.183100  \n",
       "75%        21.475800  \n",
       "max    120098.000000  \n",
       "\n",
       "[8 rows x 26 columns]"
      ]
     },
     "execution_count": 4,
     "metadata": {},
     "output_type": "execute_result"
    }
   ],
   "source": [
    "display(df.describe())\n",
    "df_t.describe()"
   ]
  }
 ],
 "metadata": {
  "kernelspec": {
   "display_name": ".venv",
   "language": "python",
   "name": "python3"
  },
  "language_info": {
   "codemirror_mode": {
    "name": "ipython",
    "version": 3
   },
   "file_extension": ".py",
   "mimetype": "text/x-python",
   "name": "python",
   "nbconvert_exporter": "python",
   "pygments_lexer": "ipython3",
   "version": "3.10.12"
  }
 },
 "nbformat": 4,
 "nbformat_minor": 2
}
